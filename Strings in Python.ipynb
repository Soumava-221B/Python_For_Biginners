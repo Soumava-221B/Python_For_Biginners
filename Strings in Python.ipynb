{
 "cells": [
  {
   "cell_type": "markdown",
   "id": "cc52181b",
   "metadata": {},
   "source": [
    "# Strings\n",
    "\n",
    "A String is a data type in Python, composed of a collection of characters. For exapmle: \"Simplilearn\", \"Version 1.0\""
   ]
  },
  {
   "cell_type": "code",
   "execution_count": 1,
   "id": "2585df7a",
   "metadata": {},
   "outputs": [
    {
     "name": "stdout",
     "output_type": "stream",
     "text": [
      "Simplilearn\n"
     ]
    }
   ],
   "source": [
    "stg=\"Simplilearn\"\n",
    "print(stg)"
   ]
  },
  {
   "cell_type": "code",
   "execution_count": 2,
   "id": "ff14bc87",
   "metadata": {},
   "outputs": [
    {
     "name": "stdout",
     "output_type": "stream",
     "text": [
      "Tim's a birthday\n"
     ]
    }
   ],
   "source": [
    "stg=\"Tim's a birthday\"\n",
    "print(stg)"
   ]
  },
  {
   "cell_type": "code",
   "execution_count": 3,
   "id": "6ad5b701",
   "metadata": {},
   "outputs": [
    {
     "name": "stdout",
     "output_type": "stream",
     "text": [
      "Tim said, \"I am busy today\".\n"
     ]
    }
   ],
   "source": [
    "stg= 'Tim said, \"I am busy today\".'\n",
    "print(stg)"
   ]
  },
  {
   "cell_type": "code",
   "execution_count": 2,
   "id": "d092b9b5",
   "metadata": {
    "scrolled": true
   },
   "outputs": [
    {
     "name": "stdout",
     "output_type": "stream",
     "text": [
      "Tim said, \"I'm busy today\".\n"
     ]
    }
   ],
   "source": [
    "stg = 'Tim said, \"I\\'m busy today\".'\n",
    "print(stg)"
   ]
  },
  {
   "cell_type": "code",
   "execution_count": 3,
   "id": "f6a674ba",
   "metadata": {},
   "outputs": [
    {
     "name": "stdout",
     "output_type": "stream",
     "text": [
      "Hey there \n",
      "Welcome to Simplilearn\n"
     ]
    }
   ],
   "source": [
    "stg = '''Hey there \n",
    "Welcome to Simplilearn'''\n",
    "print(stg)"
   ]
  },
  {
   "cell_type": "code",
   "execution_count": 4,
   "id": "641f6161",
   "metadata": {},
   "outputs": [
    {
     "name": "stdout",
     "output_type": "stream",
     "text": [
      "11\n"
     ]
    }
   ],
   "source": [
    "stg = \"Simplilearn\"\n",
    "print(len(stg))"
   ]
  },
  {
   "cell_type": "code",
   "execution_count": 5,
   "id": "7699ad96",
   "metadata": {},
   "outputs": [
    {
     "name": "stdout",
     "output_type": "stream",
     "text": [
      "i\n"
     ]
    }
   ],
   "source": [
    "stg = \"Simplilearn\"\n",
    "print(stg[5])"
   ]
  },
  {
   "cell_type": "code",
   "execution_count": 7,
   "id": "6e4eab09",
   "metadata": {},
   "outputs": [
    {
     "name": "stdout",
     "output_type": "stream",
     "text": [
      "S\n",
      "i\n",
      "m\n",
      "p\n",
      "l\n",
      "i\n",
      "l\n",
      "e\n",
      "r\n",
      "n\n"
     ]
    }
   ],
   "source": [
    "stg = \"Simplilern\"\n",
    "for i in stg:\n",
    "    print(i)"
   ]
  },
  {
   "cell_type": "code",
   "execution_count": 8,
   "id": "7423b1b5",
   "metadata": {},
   "outputs": [
    {
     "name": "stdout",
     "output_type": "stream",
     "text": [
      "Simplilern"
     ]
    }
   ],
   "source": [
    "for i in stg:\n",
    "    print(i, end=\"\")"
   ]
  },
  {
   "cell_type": "code",
   "execution_count": 10,
   "id": "a9f19ce0",
   "metadata": {},
   "outputs": [
    {
     "name": "stdout",
     "output_type": "stream",
     "text": [
      "Simpl\n",
      "Simpl\n"
     ]
    }
   ],
   "source": [
    "stg = \"Simplilearn\"\n",
    "print(stg[:5])\n",
    "print(stg[0:5])"
   ]
  },
  {
   "cell_type": "code",
   "execution_count": 11,
   "id": "2e0fe8a1",
   "metadata": {},
   "outputs": [
    {
     "name": "stdout",
     "output_type": "stream",
     "text": [
      "ilearn\n"
     ]
    }
   ],
   "source": [
    "print(stg[5:])"
   ]
  },
  {
   "cell_type": "code",
   "execution_count": 12,
   "id": "42a6a227",
   "metadata": {},
   "outputs": [
    {
     "name": "stdout",
     "output_type": "stream",
     "text": [
      "mpl\n"
     ]
    }
   ],
   "source": [
    "print(stg[2:5])"
   ]
  },
  {
   "cell_type": "code",
   "execution_count": 13,
   "id": "4db23410",
   "metadata": {},
   "outputs": [
    {
     "name": "stdout",
     "output_type": "stream",
     "text": [
      "WELCOME TO SIMPLILEARN\n",
      "welcome to simplilearn\n"
     ]
    }
   ],
   "source": [
    "stg = \"Welcome to Simplilearn\"\n",
    "print(stg.upper())\n",
    "print(stg.lower())"
   ]
  },
  {
   "cell_type": "code",
   "execution_count": 14,
   "id": "6a4b19d0",
   "metadata": {},
   "outputs": [
    {
     "name": "stdout",
     "output_type": "stream",
     "text": [
      "11\n",
      "11\n"
     ]
    }
   ],
   "source": [
    "print(stg.find('S'))\n",
    "print(stg.index('S'))"
   ]
  },
  {
   "cell_type": "code",
   "execution_count": 15,
   "id": "c441f8a8",
   "metadata": {},
   "outputs": [
    {
     "name": "stdout",
     "output_type": "stream",
     "text": [
      "2\n",
      "2\n"
     ]
    }
   ],
   "source": [
    "print(stg.find('l'))\n",
    "print(stg.index('l'))"
   ]
  },
  {
   "cell_type": "code",
   "execution_count": 16,
   "id": "f768f3a6",
   "metadata": {},
   "outputs": [
    {
     "name": "stdout",
     "output_type": "stream",
     "text": [
      "['Welcome', 'to', 'Simplilearn']\n"
     ]
    }
   ],
   "source": [
    "print(stg.split(\" \"))"
   ]
  },
  {
   "cell_type": "code",
   "execution_count": 17,
   "id": "9b169a5c",
   "metadata": {},
   "outputs": [
    {
     "name": "stdout",
     "output_type": "stream",
     "text": [
      "Welcome to Python Tutorial\n"
     ]
    }
   ],
   "source": [
    "x = stg.replace(\"Simplilearn\", \"Python Tutorial\")\n",
    "print(x)"
   ]
  },
  {
   "cell_type": "code",
   "execution_count": 18,
   "id": "663b7265",
   "metadata": {},
   "outputs": [
    {
     "name": "stdout",
     "output_type": "stream",
     "text": [
      "('Welcome', ' to ', 'Simplilearn')\n"
     ]
    }
   ],
   "source": [
    "y = stg.rpartition(\" to \")\n",
    "print(y)"
   ]
  },
  {
   "cell_type": "code",
   "execution_count": 19,
   "id": "da8b2f5d",
   "metadata": {},
   "outputs": [
    {
     "name": "stdout",
     "output_type": "stream",
     "text": [
      "good morning\n"
     ]
    }
   ],
   "source": [
    "stg1 = \"good\"\n",
    "stg2 = \"morning\"\n",
    "stg = stg1+\" \"+stg2\n",
    "print(stg)"
   ]
  },
  {
   "cell_type": "code",
   "execution_count": 20,
   "id": "7aab5b2b",
   "metadata": {},
   "outputs": [
    {
     "name": "stdout",
     "output_type": "stream",
     "text": [
      "Hey there, all!\n"
     ]
    }
   ],
   "source": [
    "stg1 = \"Hey\"\n",
    "stg2 = \"there\"\n",
    "stg3 = \"all\"\n",
    "stg = \"{} {}, {}!\".format(stg1, stg2, stg3)\n",
    "print(stg)"
   ]
  },
  {
   "cell_type": "code",
   "execution_count": null,
   "id": "2021023b",
   "metadata": {},
   "outputs": [],
   "source": []
  }
 ],
 "metadata": {
  "kernelspec": {
   "display_name": "Python 3 (ipykernel)",
   "language": "python",
   "name": "python3"
  },
  "language_info": {
   "codemirror_mode": {
    "name": "ipython",
    "version": 3
   },
   "file_extension": ".py",
   "mimetype": "text/x-python",
   "name": "python",
   "nbconvert_exporter": "python",
   "pygments_lexer": "ipython3",
   "version": "3.9.7"
  }
 },
 "nbformat": 4,
 "nbformat_minor": 5
}
