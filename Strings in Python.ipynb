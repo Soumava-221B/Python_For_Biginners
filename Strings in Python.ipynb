{
 "cells": [
  {
   "cell_type": "markdown",
   "id": "cc52181b",
   "metadata": {},
   "source": [
    "# Strings\n",
    "\n",
    "A String is a data type in Python, composed of a collection of characters. For exapmle: \"Simplilearn\", \"Version 1.0\""
   ]
  },
  {
   "cell_type": "code",
   "execution_count": 1,
   "id": "2585df7a",
   "metadata": {},
   "outputs": [
    {
     "name": "stdout",
     "output_type": "stream",
     "text": [
      "Simplilearn\n"
     ]
    }
   ],
   "source": [
    "stg=\"Simplilearn\"\n",
    "print(stg)"
   ]
  },
  {
   "cell_type": "code",
   "execution_count": 2,
   "id": "ff14bc87",
   "metadata": {},
   "outputs": [
    {
     "name": "stdout",
     "output_type": "stream",
     "text": [
      "Tim's a birthday\n"
     ]
    }
   ],
   "source": [
    "stg=\"Tim's a birthday\"\n",
    "print(stg)"
   ]
  },
  {
   "cell_type": "code",
   "execution_count": 3,
   "id": "6ad5b701",
   "metadata": {},
   "outputs": [
    {
     "name": "stdout",
     "output_type": "stream",
     "text": [
      "Tim said, \"I am busy today\".\n"
     ]
    }
   ],
   "source": [
    "stg= 'Tim said, \"I am busy today\".'\n",
    "print(stg)"
   ]
  },
  {
   "cell_type": "code",
   "execution_count": null,
   "id": "d092b9b5",
   "metadata": {},
   "outputs": [],
   "source": [
    "stg = 'Tim said,'"
   ]
  }
 ],
 "metadata": {
  "kernelspec": {
   "display_name": "Python 3 (ipykernel)",
   "language": "python",
   "name": "python3"
  },
  "language_info": {
   "codemirror_mode": {
    "name": "ipython",
    "version": 3
   },
   "file_extension": ".py",
   "mimetype": "text/x-python",
   "name": "python",
   "nbconvert_exporter": "python",
   "pygments_lexer": "ipython3",
   "version": "3.9.7"
  }
 },
 "nbformat": 4,
 "nbformat_minor": 5
}
