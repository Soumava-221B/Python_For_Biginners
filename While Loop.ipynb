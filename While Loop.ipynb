{
 "cells": [
  {
   "cell_type": "markdown",
   "id": "d60dab25",
   "metadata": {},
   "source": [
    "<h1>Defination</h1>\n",
    "While loop is used to repeat a section of code unknown number of times until a specific condition is met"
   ]
  },
  {
   "cell_type": "code",
   "execution_count": 1,
   "id": "99fc7eb7",
   "metadata": {},
   "outputs": [
    {
     "name": "stdout",
     "output_type": "stream",
     "text": [
      "Simplilearn\n",
      "Simplilearn\n",
      "Simplilearn\n",
      "Simplilearn\n",
      "Simplilearn\n",
      "Simplilearn\n",
      "Simplilearn\n",
      "Simplilearn\n",
      "Simplilearn\n",
      "Simplilearn\n"
     ]
    }
   ],
   "source": [
    "i=1\n",
    "while i <= 10:\n",
    "    print(\"Simplilearn\")\n",
    "    i+=1"
   ]
  },
  {
   "cell_type": "code",
   "execution_count": 4,
   "id": "29612a51",
   "metadata": {},
   "outputs": [
    {
     "name": "stdout",
     "output_type": "stream",
     "text": [
      "Simplilearn\n",
      "Simplilearn\n",
      "Simplilearn\n",
      "Simplilearn\n",
      "Simplilearn\n",
      "Simplilearn\n",
      "Simplilearn\n",
      "Simplilearn\n",
      "Simplilearn\n",
      "Simplilearn\n"
     ]
    }
   ],
   "source": [
    "i=10\n",
    "while i >= 1:\n",
    "    print(\"Simplilearn\")\n",
    "    i-=1"
   ]
  },
  {
   "cell_type": "code",
   "execution_count": 5,
   "id": "efba294e",
   "metadata": {},
   "outputs": [
    {
     "name": "stdout",
     "output_type": "stream",
     "text": [
      "55\n"
     ]
    }
   ],
   "source": [
    "# Print sum of 10 natural numbers \n",
    "i=1\n",
    "sum=0\n",
    "while i<=10:\n",
    "    sum=sum+i\n",
    "    i+=1\n",
    "print(sum)"
   ]
  },
  {
   "cell_type": "code",
   "execution_count": 6,
   "id": "bbd64d99",
   "metadata": {},
   "outputs": [
    {
     "name": "stdout",
     "output_type": "stream",
     "text": [
      "30\n"
     ]
    }
   ],
   "source": [
    "# Print sum of 10 even numbers\n",
    "i=1\n",
    "sum=0\n",
    "while i<=10:\n",
    "    if i%2==0:\n",
    "        sum=sum+i\n",
    "    i+=1\n",
    "print(sum)"
   ]
  },
  {
   "cell_type": "code",
   "execution_count": 8,
   "id": "f33f1b48",
   "metadata": {},
   "outputs": [
    {
     "name": "stdout",
     "output_type": "stream",
     "text": [
      "Enter a number 1221\n",
      "1221\n"
     ]
    }
   ],
   "source": [
    "# Print the reverse of a number\n",
    "n=int(input(\"Enter a number \"))\n",
    "nr= 0\n",
    "while n%10!=0:\n",
    "    c=n%10\n",
    "    nr=nr*10 + c\n",
    "    n=n//10\n",
    "print(nr)"
   ]
  }
 ],
 "metadata": {
  "kernelspec": {
   "display_name": "Python 3 (ipykernel)",
   "language": "python",
   "name": "python3"
  },
  "language_info": {
   "codemirror_mode": {
    "name": "ipython",
    "version": 3
   },
   "file_extension": ".py",
   "mimetype": "text/x-python",
   "name": "python",
   "nbconvert_exporter": "python",
   "pygments_lexer": "ipython3",
   "version": "3.9.7"
  }
 },
 "nbformat": 4,
 "nbformat_minor": 5
}
