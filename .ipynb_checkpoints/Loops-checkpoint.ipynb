{
 "cells": [
  {
   "cell_type": "markdown",
   "id": "31c72eb1",
   "metadata": {},
   "source": [
    "# While Loop\n",
    "## Program to enter multiple"
   ]
  },
  {
   "cell_type": "code",
   "execution_count": 4,
   "id": "df13c69a",
   "metadata": {},
   "outputs": [
    {
     "name": "stdout",
     "output_type": "stream",
     "text": [
      "Enter a multiple of 7 3\n",
      "Enter a multiple of 7 6\n",
      "Enter a multiple of 7 14\n",
      "14 is a multiple of 7\n"
     ]
    }
   ],
   "source": [
    "val= int(input(\"Enter a multiple of 7 \"))\n",
    "while val%7 !=0:\n",
    "    val= int(input(\"Enter a multiple of 7 \"))\n",
    "else:\n",
    "    print(\"%d is a multiple of 7\" %val)"
   ]
  },
  {
   "cell_type": "markdown",
   "id": "6d903cf6",
   "metadata": {},
   "source": [
    "# For Loop\n",
    "For loop is used to iterate over a sequence, which could be a list, tupple, array or string"
   ]
  },
  {
   "cell_type": "code",
   "execution_count": 5,
   "id": "d206998e",
   "metadata": {},
   "outputs": [
    {
     "name": "stdout",
     "output_type": "stream",
     "text": [
      "1\n",
      "6\n",
      "Simplilearn\n"
     ]
    }
   ],
   "source": [
    "x = [1,6,\"Simplilearn\"]\n",
    "for i in x:\n",
    "    print(i)"
   ]
  },
  {
   "cell_type": "code",
   "execution_count": 6,
   "id": "40ce64aa",
   "metadata": {},
   "outputs": [
    {
     "name": "stdout",
     "output_type": "stream",
     "text": [
      "S\n",
      "i\n",
      "m\n",
      "p\n",
      "l\n",
      "i\n",
      "l\n",
      "e\n",
      "a\n",
      "r\n",
      "n\n"
     ]
    }
   ],
   "source": [
    "x = \"Simplilearn\"\n",
    "for i in x:\n",
    "    print(i)"
   ]
  },
  {
   "cell_type": "markdown",
   "id": "586a6542",
   "metadata": {},
   "source": [
    "# Nested loop\n",
    "Accessing the elements in a matrix"
   ]
  },
  {
   "cell_type": "code",
   "execution_count": 8,
   "id": "9661c7d0",
   "metadata": {},
   "outputs": [
    {
     "name": "stdout",
     "output_type": "stream",
     "text": [
      "123\n",
      "abc\n"
     ]
    }
   ],
   "source": [
    "x = [[1,2,3],['a','b','c']]\n",
    "for i in x:\n",
    "    for j in i:\n",
    "        print(j, end=\"\")\n",
    "    print()"
   ]
  },
  {
   "cell_type": "markdown",
   "id": "81cb87a0",
   "metadata": {},
   "source": [
    "# Loop control statements\n",
    "Loop control statemnts alter the regular flow\n",
    "eg: Break: Transfers control to the statement right after the loop"
   ]
  },
  {
   "cell_type": "code",
   "execution_count": 10,
   "id": "7095e9fe",
   "metadata": {},
   "outputs": [
    {
     "name": "stdout",
     "output_type": "stream",
     "text": [
      "Hey there"
     ]
    }
   ],
   "source": [
    "x = \"Hey there. how are you?\"\n",
    "for i in x:\n",
    "    if i == \".\":\n",
    "        break\n",
    "    print(i, end=\"\")"
   ]
  }
 ],
 "metadata": {
  "kernelspec": {
   "display_name": "Python 3 (ipykernel)",
   "language": "python",
   "name": "python3"
  },
  "language_info": {
   "codemirror_mode": {
    "name": "ipython",
    "version": 3
   },
   "file_extension": ".py",
   "mimetype": "text/x-python",
   "name": "python",
   "nbconvert_exporter": "python",
   "pygments_lexer": "ipython3",
   "version": "3.9.7"
  }
 },
 "nbformat": 4,
 "nbformat_minor": 5
}
