{
 "cells": [
  {
   "cell_type": "markdown",
   "id": "2185a691",
   "metadata": {},
   "source": [
    "# Defination\n",
    "A thread is a sequence of instruction in a program that can be executed independently of the remaining program"
   ]
  },
  {
   "cell_type": "code",
   "execution_count": 1,
   "id": "3dcf468f",
   "metadata": {},
   "outputs": [
    {
     "name": "stdout",
     "output_type": "stream",
     "text": [
      "This is a child thread\n",
      "This is parent thread\n"
     ]
    }
   ],
   "source": [
    "from threading import*\n",
    "def show():\n",
    "    print(\"This is a child thread\")\n",
    "t = Thread(target = show())\n",
    "print(\"This is parent thread\")"
   ]
  },
  {
   "cell_type": "code",
   "execution_count": 2,
   "id": "b0a2081c",
   "metadata": {},
   "outputs": [
    {
     "name": "stdout",
     "output_type": "stream",
     "text": [
      "This is a child thread\n",
      "This is parent thread\n"
     ]
    }
   ],
   "source": [
    "from threading import*\n",
    "def show():\n",
    "    print(\"This is a child thread\")\n",
    "t = Thread(target = show())           # t object of thread class\n",
    "t.start()\n",
    "print(\"This is parent thread\")"
   ]
  },
  {
   "cell_type": "code",
   "execution_count": 3,
   "id": "b1be1005",
   "metadata": {},
   "outputs": [
    {
     "name": "stdout",
     "output_type": "stream",
     "text": [
      "This is a child class\n",
      "This is a child class\n",
      "This is a child class\n",
      "This is a child class\n",
      "This is a child class\n",
      "\n",
      "This is the main thread\n",
      "\n",
      "This is the main thread\n",
      "\n",
      "This is the main thread\n",
      "\n",
      "This is the main thread\n",
      "\n",
      "This is the main thread\n"
     ]
    }
   ],
   "source": [
    "from threading import*\n",
    "class MyThread(Thread):\n",
    "    def run(self):\n",
    "        for i in range(5):\n",
    "            print(\"This is a child class\")\n",
    "t = MyThread()\n",
    "t.start()\n",
    "for i in range(5):\n",
    "    print(\"\\nThis is the main thread\")"
   ]
  },
  {
   "cell_type": "code",
   "execution_count": 7,
   "id": "080ade1b",
   "metadata": {},
   "outputs": [
    {
     "name": "stdout",
     "output_type": "stream",
     "text": [
      "This is the child thread\n",
      "This is the child thread\n",
      "This is the child thread\n",
      "This is the child thread\n",
      "This is the child thread\n",
      "This is the parent thread\n",
      "This is the parent thread\n",
      "This is the parent thread\n",
      "This is the parent thread\n",
      "This is the parent thread\n"
     ]
    }
   ],
   "source": [
    "from threading import *\n",
    "class Demo:\n",
    "    def show(self):\n",
    "        for i in range(5):\n",
    "            print(\"This is the child thread\")\n",
    "obj = Demo()\n",
    "t = Thread(target = obj.show())\n",
    "t.start()\n",
    "for i in range(5):\n",
    "    print(\"This is the parent thread\")"
   ]
  },
  {
   "cell_type": "markdown",
   "id": "4f953a34",
   "metadata": {},
   "source": [
    "# Context Switching\n",
    "Storing the state of a process or therad and resuming its execution at a later time is called context switching "
   ]
  },
  {
   "cell_type": "markdown",
   "id": "c5969fe6",
   "metadata": {},
   "source": [
    "# Multithreading\n",
    "A model where multiple threads within a process execute independently while sharing the same resource is called multithreading"
   ]
  },
  {
   "cell_type": "code",
   "execution_count": 11,
   "id": "ef8fb4a2",
   "metadata": {},
   "outputs": [
    {
     "name": "stdout",
     "output_type": "stream",
     "text": [
      "The number is 1\n",
      "The double of the number isThe square of the number is 1\n",
      " 2\n",
      "The number is 2\n",
      "The square of the number is 4\n",
      "The double of the number is 4\n",
      "The number is 3\n",
      "The square of the number is 9\n",
      "The double of the number is 6\n",
      "The number is 4\n",
      "The square of the number is 16\n",
      "The double of the number is 8\n",
      "The number is 5\n",
      "The square of the number is 25\n",
      "The double of the number is 10\n",
      "This is the main thread\n"
     ]
    }
   ],
   "source": [
    "from threading import *\n",
    "import time\n",
    "class Demo:\n",
    "    def num(self):\n",
    "        for i in range(1,6):\n",
    "            print(\"The number is\", i)\n",
    "            time.sleep(1)\n",
    "    def double(self):\n",
    "        for i in range(1,6):\n",
    "            print(\"The double of the number is\", 2*i)\n",
    "            time.sleep(1)\n",
    "            \n",
    "    def square(self):\n",
    "        for i in range(1,6):\n",
    "            print(\"The square of the number is\", i*i)\n",
    "            time.sleep(1)\n",
    "            \n",
    "obj = Demo()\n",
    "t1 = Thread(target=obj.num)\n",
    "t2 = Thread(target=obj.double)\n",
    "t3 = Thread(target=obj.square)\n",
    "\n",
    "t1.start()\n",
    "t2.start()\n",
    "t3.start()\n",
    "\n",
    "t1.join()\n",
    "t2.join()\n",
    "t3.join()\n",
    "\n",
    "print(\"This is the main thread\")"
   ]
  }
 ],
 "metadata": {
  "kernelspec": {
   "display_name": "Python 3 (ipykernel)",
   "language": "python",
   "name": "python3"
  },
  "language_info": {
   "codemirror_mode": {
    "name": "ipython",
    "version": 3
   },
   "file_extension": ".py",
   "mimetype": "text/x-python",
   "name": "python",
   "nbconvert_exporter": "python",
   "pygments_lexer": "ipython3",
   "version": "3.9.7"
  }
 },
 "nbformat": 4,
 "nbformat_minor": 5
}
