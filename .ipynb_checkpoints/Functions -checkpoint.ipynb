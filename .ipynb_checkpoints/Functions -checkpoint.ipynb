{
 "cells": [
  {
   "cell_type": "markdown",
   "id": "6ecf6654",
   "metadata": {},
   "source": [
    "# Defination\n",
    "A function is a set of code that performs some task"
   ]
  },
  {
   "cell_type": "code",
   "execution_count": 1,
   "id": "c34ebcf4",
   "metadata": {},
   "outputs": [
    {
     "name": "stdout",
     "output_type": "stream",
     "text": [
      "Good Morning\n"
     ]
    }
   ],
   "source": [
    "def welcome():\n",
    "    print(\"Good Morning\")\n",
    "    \n",
    "welcome()"
   ]
  },
  {
   "cell_type": "code",
   "execution_count": 4,
   "id": "b2971813",
   "metadata": {},
   "outputs": [
    {
     "name": "stdout",
     "output_type": "stream",
     "text": [
      "a:10   b:20\n",
      "The sum is  30\n",
      "a:2   b:3\n",
      "The sum is  5\n"
     ]
    }
   ],
   "source": [
    "def welcome():\n",
    "    print(\"Good Morning\")\n",
    "    \n",
    "def add(a,b):\n",
    "    total=a+b\n",
    "    print(\"a:%d   b:%d\" %(a,b))\n",
    "    print(\"The sum is \", total)\n",
    "    \n",
    "add(10,20)\n",
    "x=2\n",
    "y=3\n",
    "add(x,y)"
   ]
  },
  {
   "cell_type": "code",
   "execution_count": 5,
   "id": "37844589",
   "metadata": {},
   "outputs": [
    {
     "name": "stdout",
     "output_type": "stream",
     "text": [
      "a:10   b:20\n",
      "The sum is  30\n",
      "a:3   b:2\n",
      "The sum is  5\n"
     ]
    }
   ],
   "source": [
    "def welcome():\n",
    "    print(\"Good Morning\")\n",
    "    \n",
    "def add(b,a):\n",
    "    total=a+b\n",
    "    print(\"a:%d   b:%d\" %(a,b))\n",
    "    print(\"The sum is \", total)\n",
    "    \n",
    "add(a=10,b=20)      #Key word argument\n",
    "x=2\n",
    "y=3\n",
    "add(x,y)"
   ]
  },
  {
   "cell_type": "code",
   "execution_count": 6,
   "id": "006f0959",
   "metadata": {},
   "outputs": [
    {
     "name": "stdout",
     "output_type": "stream",
     "text": [
      "a:10   b:0\n",
      "The sum is  10\n"
     ]
    }
   ],
   "source": [
    "def welcome():\n",
    "    print(\"Good Morning\")\n",
    "    \n",
    "def add(a=0,b=0):              # Specifying default value\n",
    "    total=a+b\n",
    "    print(\"a:%d   b:%d\" %(a,b))\n",
    "    print(\"The sum is \", total)\n",
    "    \n",
    "add(10)      #Key word argument\n"
   ]
  },
  {
   "cell_type": "code",
   "execution_count": 8,
   "id": "145562b7",
   "metadata": {},
   "outputs": [
    {
     "name": "stdout",
     "output_type": "stream",
     "text": [
      "The sum is  110\n"
     ]
    }
   ],
   "source": [
    "def add(*a):              \n",
    "    total=0\n",
    "    for i in a:\n",
    "        total=total+i\n",
    "    print(\"The sum is \", total)\n",
    "    \n",
    "add(10,20,30,50)      # These values are put in a list\n"
   ]
  },
  {
   "cell_type": "code",
   "execution_count": 9,
   "id": "2284efb6",
   "metadata": {},
   "outputs": [
    {
     "name": "stdout",
     "output_type": "stream",
     "text": [
      "The sum is  5\n",
      "the sum is  30\n"
     ]
    }
   ],
   "source": [
    "def add(a,b):\n",
    "    a=2\n",
    "    b=3\n",
    "    total=a+b\n",
    "    print(\"The sum is \", total)\n",
    "    \n",
    "x=10\n",
    "y=20\n",
    "add(x,y)\n",
    "print(\"the sum is \", x+y)"
   ]
  },
  {
   "cell_type": "code",
   "execution_count": 10,
   "id": "23b24f4d",
   "metadata": {},
   "outputs": [
    {
     "name": "stdout",
     "output_type": "stream",
     "text": [
      "140607429241424 140607429241744\n",
      "140607429241424 140607429241744\n",
      "140607429241168 140607429241200\n",
      "The sum is  5\n",
      "the sum is  30\n"
     ]
    }
   ],
   "source": [
    "def add(a,b):\n",
    "    print(id(a),id(b))              # second row of the id\n",
    "    a=2\n",
    "    b=3\n",
    "    print(id(a),id(b))              # id is defferent\n",
    "    total=a+b\n",
    "    print(\"The sum is \", total)\n",
    "    \n",
    "x=10\n",
    "y=20\n",
    "print(id(x),id(y))                 # first row of the id\n",
    "add(x,y)\n",
    "print(\"the sum is \", x+y)"
   ]
  },
  {
   "cell_type": "code",
   "execution_count": 11,
   "id": "e07d2c14",
   "metadata": {},
   "outputs": [
    {
     "name": "stdout",
     "output_type": "stream",
     "text": [
      "[0, 1, 2]\n",
      "[0, 1, 0]\n"
     ]
    }
   ],
   "source": [
    "def add(lst):\n",
    "    lst[2]=0\n",
    "lst=[0,1,2]\n",
    "print(lst)\n",
    "add(lst)\n",
    "print(lst)"
   ]
  },
  {
   "cell_type": "code",
   "execution_count": 12,
   "id": "e989bc20",
   "metadata": {},
   "outputs": [
    {
     "name": "stdout",
     "output_type": "stream",
     "text": [
      "The sum is  30\n"
     ]
    }
   ],
   "source": [
    "def add(a,b):\n",
    "    total=a+b\n",
    "    return total\n",
    "\n",
    "result=add(10,20)\n",
    "print(\"The sum is \",result)"
   ]
  }
 ],
 "metadata": {
  "kernelspec": {
   "display_name": "Python 3 (ipykernel)",
   "language": "python",
   "name": "python3"
  },
  "language_info": {
   "codemirror_mode": {
    "name": "ipython",
    "version": 3
   },
   "file_extension": ".py",
   "mimetype": "text/x-python",
   "name": "python",
   "nbconvert_exporter": "python",
   "pygments_lexer": "ipython3",
   "version": "3.9.7"
  }
 },
 "nbformat": 4,
 "nbformat_minor": 5
}
