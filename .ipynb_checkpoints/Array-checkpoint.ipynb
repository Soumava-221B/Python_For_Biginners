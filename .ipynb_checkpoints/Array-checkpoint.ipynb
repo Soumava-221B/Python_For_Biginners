{
 "cells": [
  {
   "cell_type": "markdown",
   "id": "c5275dc9",
   "metadata": {},
   "source": [
    "# Defination\n",
    "Array is a container that holds multiple values of the same type"
   ]
  },
  {
   "cell_type": "code",
   "execution_count": null,
   "id": "bf15c3ef",
   "metadata": {},
   "outputs": [],
   "source": [
    "from array import *\n",
    "\n",
    "arr = array('i', [-1,2,3,4,5])\n",
    "print(arr)"
   ]
  },
  {
   "cell_type": "code",
   "execution_count": null,
   "id": "a9e3e864",
   "metadata": {},
   "outputs": [],
   "source": [
    "print(arr.buffer_info())"
   ]
  },
  {
   "cell_type": "code",
   "execution_count": null,
   "id": "fc8147cf",
   "metadata": {},
   "outputs": [],
   "source": [
    "print(arr[2])"
   ]
  },
  {
   "cell_type": "code",
   "execution_count": null,
   "id": "62ef6597",
   "metadata": {},
   "outputs": [],
   "source": [
    "for i in arr:\n",
    "    print(i)"
   ]
  },
  {
   "cell_type": "code",
   "execution_count": null,
   "id": "e57cf2e7",
   "metadata": {},
   "outputs": [],
   "source": [
    "for pnt in range(5):\n",
    "    print(pnt, arr[pnt])"
   ]
  },
  {
   "cell_type": "code",
   "execution_count": null,
   "id": "f8e523f6",
   "metadata": {},
   "outputs": [],
   "source": [
    "arr.reverse()\n",
    "print(arr)"
   ]
  },
  {
   "cell_type": "code",
   "execution_count": null,
   "id": "513eea6d",
   "metadata": {},
   "outputs": [],
   "source": [
    "arr.append(10)\n",
    "print(arr)"
   ]
  },
  {
   "cell_type": "code",
   "execution_count": null,
   "id": "132d70f0",
   "metadata": {},
   "outputs": [],
   "source": [
    "arr.remove(2)\n",
    "print(arr)"
   ]
  },
  {
   "cell_type": "code",
   "execution_count": null,
   "id": "37e4339b",
   "metadata": {},
   "outputs": [],
   "source": [
    "arr = array('i', [-1,2,2,3,4,5])\n",
    "arr.remove(2)\n",
    "print(arr)"
   ]
  },
  {
   "cell_type": "code",
   "execution_count": null,
   "id": "b1435cbe",
   "metadata": {
    "scrolled": true
   },
   "outputs": [],
   "source": [
    "print(arr[3])\n",
    "print(arr.index(4))"
   ]
  },
  {
   "cell_type": "code",
   "execution_count": null,
   "id": "2e1dcf7e",
   "metadata": {},
   "outputs": [],
   "source": [
    "arr = array('i', [-1,2,2,3,4,5])\n",
    "print(arr[2])\n",
    "print(arr.index(2))"
   ]
  },
  {
   "cell_type": "code",
   "execution_count": null,
   "id": "6e45788e",
   "metadata": {},
   "outputs": [],
   "source": [
    "arr = array('i', [])\n",
    "x = int(input(\"Enter size of array\"))\n",
    "print('Enter %d elements'%x)"
   ]
  },
  {
   "cell_type": "code",
   "execution_count": null,
   "id": "ae51a8bc",
   "metadata": {},
   "outputs": [],
   "source": [
    "from array import *\n",
    "arr = array('i', [])\n",
    "x = int(input(\"Enter size of array \"))\n",
    "print('Enter %d elements'%x)\n",
    "for i in range(x):\n",
    "    n=int(input())\n",
    "    arr.append(n)\n",
    "print(arr)"
   ]
  }
 ],
 "metadata": {
  "kernelspec": {
   "display_name": "Python 3 (ipykernel)",
   "language": "python",
   "name": "python3"
  },
  "language_info": {
   "codemirror_mode": {
    "name": "ipython",
    "version": 3
   },
   "file_extension": ".py",
   "mimetype": "text/x-python",
   "name": "python",
   "nbconvert_exporter": "python",
   "pygments_lexer": "ipython3",
   "version": "3.9.7"
  }
 },
 "nbformat": 4,
 "nbformat_minor": 5
}
