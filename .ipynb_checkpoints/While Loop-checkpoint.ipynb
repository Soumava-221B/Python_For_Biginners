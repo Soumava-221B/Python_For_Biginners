{
 "cells": [
  {
   "cell_type": "markdown",
   "id": "d60dab25",
   "metadata": {},
   "source": [
    "<h1>Defination</h1>\n",
    "While loop is used to repeat a section of code unknown number of times until a specific condition is met"
   ]
  },
  {
   "cell_type": "code",
   "execution_count": null,
   "id": "99fc7eb7",
   "metadata": {},
   "outputs": [],
   "source": [
    "i=1\n",
    "while i <= 10:\n",
    "    print(\"Simplilearn\")\n",
    "    i+=1"
   ]
  },
  {
   "cell_type": "code",
   "execution_count": null,
   "id": "29612a51",
   "metadata": {},
   "outputs": [],
   "source": [
    "i=10\n",
    "while i >= 1:\n",
    "    print(\"Simplilearn\")\n",
    "    i-=1"
   ]
  },
  {
   "cell_type": "code",
   "execution_count": null,
   "id": "efba294e",
   "metadata": {},
   "outputs": [],
   "source": [
    "# Print sum of 10 natural numbers \n",
    "i=1\n",
    "sum=0\n",
    "while i<=10:\n",
    "    sum=sum+i\n",
    "    i+=1\n",
    "print(sum)"
   ]
  },
  {
   "cell_type": "code",
   "execution_count": null,
   "id": "bbd64d99",
   "metadata": {},
   "outputs": [],
   "source": [
    "# Print sum of 10 even numbers\n",
    "i=1\n",
    "sum=0\n",
    "while i<=10:\n",
    "    if i%2==0:\n",
    "        sum=sum+i\n",
    "    i+=1\n",
    "print(sum)"
   ]
  },
  {
   "cell_type": "code",
   "execution_count": null,
   "id": "f33f1b48",
   "metadata": {},
   "outputs": [],
   "source": [
    "# Print the reverse of a number\n",
    "n=int(input(\"Enter a number \"))\n",
    "nr= 0\n",
    "while n%10!=0:\n",
    "    c=n%10\n",
    "    nr=nr*10 + c\n",
    "    n=n//10\n",
    "print(nr)"
   ]
  },
  {
   "cell_type": "code",
   "execution_count": null,
   "id": "b09e8413",
   "metadata": {},
   "outputs": [],
   "source": [
    "\n",
    "x=[1,2.3,\"Simplilearn\"]\n",
    "length=0\n",
    "i=0\n",
    "try:\n",
    "    while x[i]:\n",
    "        length+=1\n",
    "        i+=1\n",
    "except IndexError:\n",
    "    print(length)"
   ]
  },
  {
   "cell_type": "code",
   "execution_count": null,
   "id": "8b380037",
   "metadata": {},
   "outputs": [],
   "source": [
    "#1\n",
    "#22\n",
    "#333\n",
    "#4444\n",
    "#55555\n",
    "\n",
    "n=int(input(\"Enter a number\"))\n",
    "i=1\n",
    "while i<=n:\n",
    "    j=1\n",
    "    while j<=i:\n",
    "        print(i,end='')\n",
    "        j+=1\n",
    "    i+=1\n",
    "    print()"
   ]
  },
  {
   "cell_type": "code",
   "execution_count": 2,
   "id": "3e527990",
   "metadata": {},
   "outputs": [
    {
     "name": "stdout",
     "output_type": "stream",
     "text": [
      "5505\n",
      "Enter a 4 digit number 10\n",
      "You quit the game \n"
     ]
    }
   ],
   "source": [
    "import random\n",
    "nump= random.randint(1000,9999)\n",
    "print(nump)\n",
    "n = int(input(\"Enter a 4 digit number \"))\n",
    "\n",
    "while n!=10:\n",
    "    num = nump\n",
    "    cor = 0\n",
    "    while num%10:\n",
    "        numc = num%10\n",
    "        nc = n%10\n",
    "        num = num//10\n",
    "        n = n//10\n",
    "        if numc == nc:\n",
    "            cor = cor+1\n",
    "    if cor == 4: \n",
    "        print(\"Congrats! you guessed it right \")\n",
    "        break\n",
    "    else:\n",
    "        print(\"%d digits were guessed right \"%cor)\n",
    "        n = int(input(\"Enter a 4 digit number \"))\n",
    "else:\n",
    "    print(\"You quit the game \")"
   ]
  }
 ],
 "metadata": {
  "kernelspec": {
   "display_name": "Python 3 (ipykernel)",
   "language": "python",
   "name": "python3"
  },
  "language_info": {
   "codemirror_mode": {
    "name": "ipython",
    "version": 3
   },
   "file_extension": ".py",
   "mimetype": "text/x-python",
   "name": "python",
   "nbconvert_exporter": "python",
   "pygments_lexer": "ipython3",
   "version": "3.9.7"
  }
 },
 "nbformat": 4,
 "nbformat_minor": 5
}
