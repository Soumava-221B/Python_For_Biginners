{
 "cells": [
  {
   "cell_type": "markdown",
   "id": "60f89869",
   "metadata": {},
   "source": [
    "## Syntax- if condition\n",
    "Statement to execute if\n",
    "<br>\n",
    "Condition is true"
   ]
  },
  {
   "cell_type": "code",
   "execution_count": 1,
   "id": "e5e8b9f3",
   "metadata": {},
   "outputs": [
    {
     "name": "stdout",
     "output_type": "stream",
     "text": [
      "This is outside the if block\n"
     ]
    }
   ],
   "source": [
    "a = 20\n",
    "if a>50:\n",
    "    print(\"This is the if body\")\n",
    "print(\"This is outside the if block\")"
   ]
  },
  {
   "cell_type": "markdown",
   "id": "07229018",
   "metadata": {},
   "source": [
    "# If else statement"
   ]
  },
  {
   "cell_type": "code",
   "execution_count": 1,
   "id": "b125cf45",
   "metadata": {},
   "outputs": [
    {
     "name": "stdout",
     "output_type": "stream",
     "text": [
      "This is the if block\n",
      "I is an even number\n"
     ]
    }
   ],
   "source": [
    "i = 20\n",
    "if i % 2 == 0:\n",
    "    print(\"This is the if block\")\n",
    "    print(\"I is an even number\")\n",
    "else:\n",
    "    print(\"This is the else block\")\n",
    "    print(\"I is an odd number\")"
   ]
  },
  {
   "cell_type": "code",
   "execution_count": null,
   "id": "56cc9282",
   "metadata": {},
   "outputs": [],
   "source": []
  }
 ],
 "metadata": {
  "kernelspec": {
   "display_name": "Python 3 (ipykernel)",
   "language": "python",
   "name": "python3"
  },
  "language_info": {
   "codemirror_mode": {
    "name": "ipython",
    "version": 3
   },
   "file_extension": ".py",
   "mimetype": "text/x-python",
   "name": "python",
   "nbconvert_exporter": "python",
   "pygments_lexer": "ipython3",
   "version": "3.9.7"
  }
 },
 "nbformat": 4,
 "nbformat_minor": 5
}
