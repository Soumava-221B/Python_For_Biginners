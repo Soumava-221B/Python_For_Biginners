{
 "cells": [
  {
   "cell_type": "markdown",
   "id": "60f89869",
   "metadata": {},
   "source": [
    "## Syntax- if condition\n",
    "Statement to execute if\n",
    "<br>\n",
    "Condition is true"
   ]
  },
  {
   "cell_type": "code",
   "execution_count": 1,
   "id": "e5e8b9f3",
   "metadata": {},
   "outputs": [
    {
     "name": "stdout",
     "output_type": "stream",
     "text": [
      "This is outside the if block\n"
     ]
    }
   ],
   "source": [
    "a = 20\n",
    "if a>50:\n",
    "    print(\"This is the if body\")\n",
    "print(\"This is outside the if block\")"
   ]
  },
  {
   "cell_type": "markdown",
   "id": "07229018",
   "metadata": {},
   "source": [
    "# If else statement\n",
    "if(condition1):\n",
    "<br>\n",
    "    #Executes if condition1 is true\n",
    "<br>   \n",
    "   if(condition2):\n",
    "<br>   \n",
    "     #Executive if condition2 is true\n",
    "<br>\n",
    "    #condition2 ends here\n",
    "<br>\n",
    "#condition1 ends here"
   ]
  },
  {
   "cell_type": "code",
   "execution_count": 1,
   "id": "b125cf45",
   "metadata": {},
   "outputs": [
    {
     "name": "stdout",
     "output_type": "stream",
     "text": [
      "This is the if block\n",
      "I is an even number\n"
     ]
    }
   ],
   "source": [
    "i = 20\n",
    "if i % 2 == 0:\n",
    "    print(\"This is the if block\")\n",
    "    print(\"I is an even number\")\n",
    "else:\n",
    "    print(\"This is the else block\")\n",
    "    print(\"I is an odd number\")"
   ]
  },
  {
   "cell_type": "markdown",
   "id": "7a90d670",
   "metadata": {},
   "source": [
    "# Nested if statement"
   ]
  },
  {
   "cell_type": "code",
   "execution_count": 1,
   "id": "f01c2b7d",
   "metadata": {},
   "outputs": [
    {
     "name": "stdout",
     "output_type": "stream",
     "text": [
      "c is an odd number less than 25\n"
     ]
    }
   ],
   "source": [
    "c = 21\n",
    "if c<25:\n",
    "    if c%2==0:\n",
    "        print(\"c is an even number less than 25\")\n",
    "    else:\n",
    "        print(\"c is an odd number less than 25\")\n",
    "else:\n",
    "    print(\"c is greater than 25\")"
   ]
  },
  {
   "cell_type": "markdown",
   "id": "6ed8c718",
   "metadata": {},
   "source": [
    "# if-elif-else ladder "
   ]
  },
  {
   "cell_type": "code",
   "execution_count": 9,
   "id": "1bff6938",
   "metadata": {},
   "outputs": [
    {
     "name": "stdout",
     "output_type": "stream",
     "text": [
      "This is a consonant\n"
     ]
    }
   ],
   "source": [
    "var='A'\n",
    "if var=='a':\n",
    "    print(\"This is the vowel a\")\n",
    "elif var=='e' or var=='E':\n",
    "    print(\"This is the vowel e\")\n",
    "elif var=='i' or var=='I':\n",
    "    print(\"This is the vowel i\")\n",
    "elif var=='o' or var=='O':\n",
    "    print(\"This is the vowel o\")\n",
    "elif var=='u' or var=='U':\n",
    "    print(\"This is the vowel u\")\n",
    "else:\n",
    "    print(\"This is a consonant\")"
   ]
  },
  {
   "cell_type": "code",
   "execution_count": null,
   "id": "be45cc8e",
   "metadata": {},
   "outputs": [],
   "source": []
  }
 ],
 "metadata": {
  "kernelspec": {
   "display_name": "Python 3 (ipykernel)",
   "language": "python",
   "name": "python3"
  },
  "language_info": {
   "codemirror_mode": {
    "name": "ipython",
    "version": 3
   },
   "file_extension": ".py",
   "mimetype": "text/x-python",
   "name": "python",
   "nbconvert_exporter": "python",
   "pygments_lexer": "ipython3",
   "version": "3.9.7"
  }
 },
 "nbformat": 4,
 "nbformat_minor": 5
}
