{
 "cells": [
  {
   "cell_type": "code",
   "execution_count": 1,
   "id": "86840d3c",
   "metadata": {},
   "outputs": [
    {
     "name": "stdout",
     "output_type": "stream",
     "text": [
      "/home/soumava/Desktop/Jupyter Notebook\n",
      "\n"
     ]
    }
   ],
   "source": [
    "import os \n",
    "\n",
    "\n",
    "def current_directory():\n",
    "    cwd = os.getcwd()\n",
    "    print(cwd)\n",
    "    \n",
    "def file_path(filename):\n",
    "    path = os.path.abspath((filename))\n",
    "    print()\n",
    "    \n",
    "    \n",
    "current_directory()\n",
    "filename=\"sample.txt\"\n",
    "file_path(filename)"
   ]
  },
  {
   "cell_type": "code",
   "execution_count": 4,
   "id": "db46d09e",
   "metadata": {},
   "outputs": [
    {
     "name": "stdout",
     "output_type": "stream",
     "text": [
      "1647413623.7375133\n",
      "time.struct_time(tm_year=2022, tm_mon=3, tm_mday=16, tm_hour=12, tm_min=23, tm_sec=43, tm_wday=2, tm_yday=75, tm_isdst=0)\n",
      "2022\n",
      "Wed Mar 16 12:23:43 2022\n"
     ]
    }
   ],
   "source": [
    "import time\n",
    "\n",
    "epc = time.time()\n",
    "print(epc)\n",
    "localtime = time.localtime(epc)\n",
    "print(localtime)\n",
    "print(localtime.tm_year)\n",
    "\n",
    "print(time.ctime(epc))"
   ]
  },
  {
   "cell_type": "code",
   "execution_count": null,
   "id": "b181a0f7",
   "metadata": {},
   "outputs": [],
   "source": [
    "# SMTP (Simple Mail transfer protocol)\n",
    "\n",
    "import smtplib\n",
    "\n",
    "smtObj=smtplib.SMTP('smtp.gmail.com', 587)    # 587 standard port number of TLS\n",
    "smtObj.echlo()\n",
    "smtObj.starttls()\n",
    "smtobj.login()"
   ]
  },
  {
   "cell_type": "code",
   "execution_count": 5,
   "id": "78af8f64",
   "metadata": {},
   "outputs": [
    {
     "name": "stdout",
     "output_type": "stream",
     "text": [
      "file created\n"
     ]
    }
   ],
   "source": [
    "from os import path\n",
    "\n",
    "def createFile(dest):\n",
    "    if not(path.isfile(dest)):\n",
    "        f=open(dest,'w')\n",
    "        f.write(\"Welcome to Python scripting\")\n",
    "        f.close()\n",
    "        \n",
    "dest=\"/home/soumava/Desktop/Jupyter Notebook/sample.txt\"\n",
    "\n",
    "createFile(dest)\n",
    "\n",
    "print(\"file created\")"
   ]
  },
  {
   "cell_type": "code",
   "execution_count": 10,
   "id": "4e74ade6",
   "metadata": {},
   "outputs": [
    {
     "name": "stdout",
     "output_type": "stream",
     "text": [
      "10\n",
      "20\n",
      "30\n",
      "40\n",
      "50\n",
      "26\n",
      "agffga\n"
     ]
    }
   ],
   "source": [
    "def func1(*args):      # Function accepting variable number of arguments\n",
    "    for i in args:\n",
    "        print(i)\n",
    "    \n",
    "func1(10,20,30,40,50,26,'agffga')"
   ]
  },
  {
   "cell_type": "code",
   "execution_count": 12,
   "id": "1dd7b67f",
   "metadata": {},
   "outputs": [
    {
     "name": "stdout",
     "output_type": "stream",
     "text": [
      "('a', 10)\n",
      "('b', 20)\n",
      "('c', 30)\n"
     ]
    }
   ],
   "source": [
    "def func1(*args, **kwargs):\n",
    "    for i in kwargs.items():\n",
    "        print(i)\n",
    "        \n",
    "func1(a=10,b=20,c=30)"
   ]
  },
  {
   "cell_type": "code",
   "execution_count": 14,
   "id": "16a63b7f",
   "metadata": {},
   "outputs": [
    {
     "name": "stdout",
     "output_type": "stream",
     "text": [
      "11\n"
     ]
    }
   ],
   "source": [
    "# Functions can be passed as an opbject in python\n",
    "def func1():\n",
    "    x=10\n",
    "    def func2(x):\n",
    "        return x+1\n",
    "    return func2(x)\n",
    "\n",
    "result=func1()\n",
    "print(result)"
   ]
  },
  {
   "cell_type": "code",
   "execution_count": null,
   "id": "099016fd",
   "metadata": {},
   "outputs": [],
   "source": [
    "def func1(called_func):\n",
    "    print()"
   ]
  }
 ],
 "metadata": {
  "kernelspec": {
   "display_name": "Python 3 (ipykernel)",
   "language": "python",
   "name": "python3"
  },
  "language_info": {
   "codemirror_mode": {
    "name": "ipython",
    "version": 3
   },
   "file_extension": ".py",
   "mimetype": "text/x-python",
   "name": "python",
   "nbconvert_exporter": "python",
   "pygments_lexer": "ipython3",
   "version": "3.9.7"
  }
 },
 "nbformat": 4,
 "nbformat_minor": 5
}
