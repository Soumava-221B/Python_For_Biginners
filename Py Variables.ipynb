{
 "cells": [
  {
   "cell_type": "code",
   "execution_count": 1,
   "id": "517a4a72",
   "metadata": {},
   "outputs": [],
   "source": [
    "x=100"
   ]
  },
  {
   "cell_type": "code",
   "execution_count": 2,
   "id": "8b8a6b80",
   "metadata": {},
   "outputs": [
    {
     "data": {
      "text/plain": [
       "int"
      ]
     },
     "execution_count": 2,
     "metadata": {},
     "output_type": "execute_result"
    }
   ],
   "source": [
    "type(x)"
   ]
  },
  {
   "cell_type": "code",
   "execution_count": 3,
   "id": "eb6d6440",
   "metadata": {},
   "outputs": [
    {
     "data": {
      "text/plain": [
       "int"
      ]
     },
     "execution_count": 3,
     "metadata": {},
     "output_type": "execute_result"
    }
   ],
   "source": [
    "x = 654 * 6734\n",
    "type(x)"
   ]
  },
  {
   "cell_type": "code",
   "execution_count": 4,
   "id": "27fcd40a",
   "metadata": {},
   "outputs": [
    {
     "name": "stdout",
     "output_type": "stream",
     "text": [
      "4404036\n"
     ]
    }
   ],
   "source": [
    "print(x)"
   ]
  },
  {
   "cell_type": "code",
   "execution_count": 5,
   "id": "94c2671c",
   "metadata": {},
   "outputs": [],
   "source": [
    "x = 3.14"
   ]
  },
  {
   "cell_type": "code",
   "execution_count": 6,
   "id": "e081fc00",
   "metadata": {},
   "outputs": [
    {
     "name": "stdout",
     "output_type": "stream",
     "text": [
      "3.14\n"
     ]
    }
   ],
   "source": [
    "print(x)"
   ]
  },
  {
   "cell_type": "code",
   "execution_count": 7,
   "id": "8ddcb8b8",
   "metadata": {},
   "outputs": [
    {
     "data": {
      "text/plain": [
       "float"
      ]
     },
     "execution_count": 7,
     "metadata": {},
     "output_type": "execute_result"
    }
   ],
   "source": [
    "type(x)"
   ]
  },
  {
   "cell_type": "code",
   "execution_count": 8,
   "id": "e49ebcbd",
   "metadata": {},
   "outputs": [],
   "source": [
    "x = 'Simplilearn'"
   ]
  },
  {
   "cell_type": "code",
   "execution_count": 9,
   "id": "a3b980a6",
   "metadata": {},
   "outputs": [
    {
     "name": "stdout",
     "output_type": "stream",
     "text": [
      "Simplilearn\n"
     ]
    }
   ],
   "source": [
    "print(x)"
   ]
  },
  {
   "cell_type": "code",
   "execution_count": 10,
   "id": "0f379a75",
   "metadata": {},
   "outputs": [
    {
     "data": {
      "text/plain": [
       "str"
      ]
     },
     "execution_count": 10,
     "metadata": {},
     "output_type": "execute_result"
    }
   ],
   "source": [
    "type(x)"
   ]
  },
  {
   "cell_type": "markdown",
   "id": "f67cc02b",
   "metadata": {},
   "source": [
    "# Lists"
   ]
  },
  {
   "cell_type": "code",
   "execution_count": 11,
   "id": "7e46da09",
   "metadata": {},
   "outputs": [],
   "source": [
    "x = [14,67,9]"
   ]
  },
  {
   "cell_type": "code",
   "execution_count": 12,
   "id": "8b044115",
   "metadata": {},
   "outputs": [
    {
     "name": "stdout",
     "output_type": "stream",
     "text": [
      "[14, 67, 9]\n"
     ]
    }
   ],
   "source": [
    "print(x)"
   ]
  },
  {
   "cell_type": "code",
   "execution_count": 13,
   "id": "ba3a7fa5",
   "metadata": {},
   "outputs": [
    {
     "data": {
      "text/plain": [
       "list"
      ]
     },
     "execution_count": 13,
     "metadata": {},
     "output_type": "execute_result"
    }
   ],
   "source": [
    "type(x)"
   ]
  },
  {
   "cell_type": "code",
   "execution_count": 14,
   "id": "3ad87e05",
   "metadata": {},
   "outputs": [
    {
     "name": "stdout",
     "output_type": "stream",
     "text": [
      "14\n"
     ]
    }
   ],
   "source": [
    "print(x[0])"
   ]
  },
  {
   "cell_type": "code",
   "execution_count": 15,
   "id": "9e25daea",
   "metadata": {},
   "outputs": [
    {
     "name": "stdout",
     "output_type": "stream",
     "text": [
      "9\n"
     ]
    }
   ],
   "source": [
    "print(x[2])"
   ]
  },
  {
   "cell_type": "code",
   "execution_count": 16,
   "id": "bf2c5bf3",
   "metadata": {},
   "outputs": [],
   "source": [
    "x[2]=67"
   ]
  },
  {
   "cell_type": "code",
   "execution_count": 17,
   "id": "6ef59502",
   "metadata": {},
   "outputs": [
    {
     "name": "stdout",
     "output_type": "stream",
     "text": [
      "[14, 67, 67]\n"
     ]
    }
   ],
   "source": [
    "print(x)"
   ]
  },
  {
   "cell_type": "markdown",
   "id": "20becb47",
   "metadata": {},
   "source": [
    "# Tupple"
   ]
  },
  {
   "cell_type": "code",
   "execution_count": 18,
   "id": "7106a595",
   "metadata": {},
   "outputs": [
    {
     "name": "stdout",
     "output_type": "stream",
     "text": [
      "(4, 8, 6)\n"
     ]
    }
   ],
   "source": [
    "x = (4,8,6)\n",
    "print(x)"
   ]
  },
  {
   "cell_type": "code",
   "execution_count": 19,
   "id": "c7d7569d",
   "metadata": {},
   "outputs": [
    {
     "data": {
      "text/plain": [
       "tuple"
      ]
     },
     "execution_count": 19,
     "metadata": {},
     "output_type": "execute_result"
    }
   ],
   "source": [
    "type(x)"
   ]
  },
  {
   "cell_type": "code",
   "execution_count": 20,
   "id": "8226217a",
   "metadata": {},
   "outputs": [
    {
     "name": "stdout",
     "output_type": "stream",
     "text": [
      "8\n"
     ]
    }
   ],
   "source": [
    "print(x[1])"
   ]
  },
  {
   "cell_type": "code",
   "execution_count": 21,
   "id": "3f18cf8e",
   "metadata": {},
   "outputs": [
    {
     "ename": "TypeError",
     "evalue": "'tuple' object does not support item assignment",
     "output_type": "error",
     "traceback": [
      "\u001b[0;31m---------------------------------------------------------------------------\u001b[0m",
      "\u001b[0;31mTypeError\u001b[0m                                 Traceback (most recent call last)",
      "\u001b[0;32m/tmp/ipykernel_53430/3929570047.py\u001b[0m in \u001b[0;36m<module>\u001b[0;34m\u001b[0m\n\u001b[0;32m----> 1\u001b[0;31m \u001b[0mx\u001b[0m\u001b[0;34m[\u001b[0m\u001b[0;36m1\u001b[0m\u001b[0;34m]\u001b[0m\u001b[0;34m=\u001b[0m\u001b[0;36m5\u001b[0m\u001b[0;34m\u001b[0m\u001b[0;34m\u001b[0m\u001b[0m\n\u001b[0m",
      "\u001b[0;31mTypeError\u001b[0m: 'tuple' object does not support item assignment"
     ]
    }
   ],
   "source": [
    "x[1]=5"
   ]
  },
  {
   "cell_type": "code",
   "execution_count": 25,
   "id": "a1bbf97a",
   "metadata": {},
   "outputs": [],
   "source": [
    "x=open('variable_com.ipynb', 'r')"
   ]
  },
  {
   "cell_type": "code",
   "execution_count": 26,
   "id": "e0f311d7",
   "metadata": {},
   "outputs": [
    {
     "data": {
      "text/plain": [
       "_io.TextIOWrapper"
      ]
     },
     "execution_count": 26,
     "metadata": {},
     "output_type": "execute_result"
    }
   ],
   "source": [
    "type(x)"
   ]
  },
  {
   "cell_type": "code",
   "execution_count": 27,
   "id": "e77d3dd1",
   "metadata": {},
   "outputs": [],
   "source": [
    "(x,y,z)=5,10,7"
   ]
  },
  {
   "cell_type": "code",
   "execution_count": 28,
   "id": "3f6e77a6",
   "metadata": {},
   "outputs": [
    {
     "name": "stdout",
     "output_type": "stream",
     "text": [
      "5\n",
      "10\n",
      "7\n"
     ]
    }
   ],
   "source": [
    "print(x)\n",
    "print(y)\n",
    "print(z)"
   ]
  },
  {
   "cell_type": "code",
   "execution_count": 29,
   "id": "6e674737",
   "metadata": {},
   "outputs": [
    {
     "ename": "ValueError",
     "evalue": "too many values to unpack (expected 2)",
     "output_type": "error",
     "traceback": [
      "\u001b[0;31m---------------------------------------------------------------------------\u001b[0m",
      "\u001b[0;31mValueError\u001b[0m                                Traceback (most recent call last)",
      "\u001b[0;32m/tmp/ipykernel_53430/3644045637.py\u001b[0m in \u001b[0;36m<module>\u001b[0;34m\u001b[0m\n\u001b[0;32m----> 1\u001b[0;31m \u001b[0;34m(\u001b[0m\u001b[0mx\u001b[0m\u001b[0;34m,\u001b[0m\u001b[0my\u001b[0m\u001b[0;34m)\u001b[0m\u001b[0;34m=\u001b[0m\u001b[0;36m5\u001b[0m\u001b[0;34m,\u001b[0m\u001b[0;36m10\u001b[0m\u001b[0;34m,\u001b[0m\u001b[0;36m7\u001b[0m\u001b[0;34m\u001b[0m\u001b[0;34m\u001b[0m\u001b[0m\n\u001b[0m",
      "\u001b[0;31mValueError\u001b[0m: too many values to unpack (expected 2)"
     ]
    }
   ],
   "source": [
    "(x,y)=5,10,7"
   ]
  },
  {
   "cell_type": "code",
   "execution_count": 30,
   "id": "02b8e6a1",
   "metadata": {},
   "outputs": [],
   "source": [
    "(x,y,z)=1,1,1"
   ]
  },
  {
   "cell_type": "code",
   "execution_count": 31,
   "id": "e97c3a3d",
   "metadata": {},
   "outputs": [
    {
     "name": "stdout",
     "output_type": "stream",
     "text": [
      "1 1 1\n"
     ]
    }
   ],
   "source": [
    "x=y=z=1\n",
    "print(x,y,z)"
   ]
  },
  {
   "cell_type": "markdown",
   "id": "dc1c9f6d",
   "metadata": {},
   "source": [
    "# Rules for naming variables\n",
    "<h3>1. Varibale name must begin with an alphabet or an underscore</h3>"
   ]
  },
  {
   "cell_type": "code",
   "execution_count": 32,
   "id": "fe644ff7",
   "metadata": {},
   "outputs": [],
   "source": [
    "abc=100"
   ]
  },
  {
   "cell_type": "code",
   "execution_count": 33,
   "id": "d0cda858",
   "metadata": {},
   "outputs": [],
   "source": [
    "_abc=10"
   ]
  },
  {
   "cell_type": "code",
   "execution_count": 34,
   "id": "10c5d393",
   "metadata": {},
   "outputs": [
    {
     "ename": "SyntaxError",
     "evalue": "invalid syntax (671370871.py, line 1)",
     "output_type": "error",
     "traceback": [
      "\u001b[0;36m  File \u001b[0;32m\"/tmp/ipykernel_53430/671370871.py\"\u001b[0;36m, line \u001b[0;32m1\u001b[0m\n\u001b[0;31m    3a=10\u001b[0m\n\u001b[0m     ^\u001b[0m\n\u001b[0;31mSyntaxError\u001b[0m\u001b[0;31m:\u001b[0m invalid syntax\n"
     ]
    }
   ],
   "source": [
    "3a=10"
   ]
  },
  {
   "cell_type": "code",
   "execution_count": 35,
   "id": "d263d8f5",
   "metadata": {},
   "outputs": [
    {
     "ename": "SyntaxError",
     "evalue": "invalid syntax (1070454341.py, line 1)",
     "output_type": "error",
     "traceback": [
      "\u001b[0;36m  File \u001b[0;32m\"/tmp/ipykernel_53430/1070454341.py\"\u001b[0;36m, line \u001b[0;32m1\u001b[0m\n\u001b[0;31m    @abc=10\u001b[0m\n\u001b[0m        ^\u001b[0m\n\u001b[0;31mSyntaxError\u001b[0m\u001b[0;31m:\u001b[0m invalid syntax\n"
     ]
    }
   ],
   "source": [
    "@abc=10"
   ]
  },
  {
   "cell_type": "markdown",
   "id": "822719b8",
   "metadata": {},
   "source": [
    "<h3>2. The first character can be followed by alphabets, numbers or underscore</h3> "
   ]
  },
  {
   "cell_type": "code",
   "execution_count": 36,
   "id": "23f1b77b",
   "metadata": {},
   "outputs": [],
   "source": [
    "a100=100"
   ]
  },
  {
   "cell_type": "code",
   "execution_count": 37,
   "id": "af6d881b",
   "metadata": {},
   "outputs": [],
   "source": [
    "_a984_=100"
   ]
  },
  {
   "cell_type": "code",
   "execution_count": 38,
   "id": "334837cb",
   "metadata": {},
   "outputs": [
    {
     "ename": "SyntaxError",
     "evalue": "invalid syntax (3664551489.py, line 1)",
     "output_type": "error",
     "traceback": [
      "\u001b[0;36m  File \u001b[0;32m\"/tmp/ipykernel_53430/3664551489.py\"\u001b[0;36m, line \u001b[0;32m1\u001b[0m\n\u001b[0;31m    a9967$=100\u001b[0m\n\u001b[0m         ^\u001b[0m\n\u001b[0;31mSyntaxError\u001b[0m\u001b[0;31m:\u001b[0m invalid syntax\n"
     ]
    }
   ],
   "source": [
    "a9967$=100"
   ]
  },
  {
   "cell_type": "code",
   "execution_count": 39,
   "id": "eef66180",
   "metadata": {},
   "outputs": [
    {
     "ename": "SyntaxError",
     "evalue": "cannot assign to operator (3328636375.py, line 1)",
     "output_type": "error",
     "traceback": [
      "\u001b[0;36m  File \u001b[0;32m\"/tmp/ipykernel_53430/3328636375.py\"\u001b[0;36m, line \u001b[0;32m1\u001b[0m\n\u001b[0;31m    xyz-2=100\u001b[0m\n\u001b[0m    ^\u001b[0m\n\u001b[0;31mSyntaxError\u001b[0m\u001b[0;31m:\u001b[0m cannot assign to operator\n"
     ]
    }
   ],
   "source": [
    "xyz-2=100"
   ]
  },
  {
   "cell_type": "markdown",
   "id": "04333797",
   "metadata": {},
   "source": [
    "<h3>3. Variable names are case sensitive</h3>"
   ]
  },
  {
   "cell_type": "code",
   "execution_count": 41,
   "id": "ad32762a",
   "metadata": {},
   "outputs": [],
   "source": [
    "a100=100\n",
    "A100=200"
   ]
  },
  {
   "cell_type": "code",
   "execution_count": 42,
   "id": "2c7510fa",
   "metadata": {},
   "outputs": [
    {
     "name": "stdout",
     "output_type": "stream",
     "text": [
      "100 200\n"
     ]
    }
   ],
   "source": [
    "print(a100, A100)"
   ]
  },
  {
   "cell_type": "markdown",
   "id": "0023ffe7",
   "metadata": {},
   "source": [
    "<h3>4. Reserved words cannot be used as variables names</h3>\n",
    "eg: break, case, try, class"
   ]
  },
  {
   "cell_type": "code",
   "execution_count": 43,
   "id": "9c71d01c",
   "metadata": {},
   "outputs": [
    {
     "ename": "SyntaxError",
     "evalue": "invalid syntax (875108267.py, line 1)",
     "output_type": "error",
     "traceback": [
      "\u001b[0;36m  File \u001b[0;32m\"/tmp/ipykernel_53430/875108267.py\"\u001b[0;36m, line \u001b[0;32m1\u001b[0m\n\u001b[0;31m    break=10\u001b[0m\n\u001b[0m         ^\u001b[0m\n\u001b[0;31mSyntaxError\u001b[0m\u001b[0;31m:\u001b[0m invalid syntax\n"
     ]
    }
   ],
   "source": [
    "break=10"
   ]
  },
  {
   "cell_type": "code",
   "execution_count": 44,
   "id": "613ad200",
   "metadata": {},
   "outputs": [
    {
     "ename": "SyntaxError",
     "evalue": "invalid syntax (1792501919.py, line 1)",
     "output_type": "error",
     "traceback": [
      "\u001b[0;36m  File \u001b[0;32m\"/tmp/ipykernel_53430/1792501919.py\"\u001b[0;36m, line \u001b[0;32m1\u001b[0m\n\u001b[0;31m    class=5\u001b[0m\n\u001b[0m         ^\u001b[0m\n\u001b[0;31mSyntaxError\u001b[0m\u001b[0;31m:\u001b[0m invalid syntax\n"
     ]
    }
   ],
   "source": [
    "class=5"
   ]
  },
  {
   "cell_type": "code",
   "execution_count": 45,
   "id": "e425e152",
   "metadata": {},
   "outputs": [
    {
     "ename": "SyntaxError",
     "evalue": "invalid syntax (361408699.py, line 1)",
     "output_type": "error",
     "traceback": [
      "\u001b[0;36m  File \u001b[0;32m\"/tmp/ipykernel_53430/361408699.py\"\u001b[0;36m, line \u001b[0;32m1\u001b[0m\n\u001b[0;31m    try=100\u001b[0m\n\u001b[0m       ^\u001b[0m\n\u001b[0;31mSyntaxError\u001b[0m\u001b[0;31m:\u001b[0m invalid syntax\n"
     ]
    }
   ],
   "source": [
    "try=100"
   ]
  },
  {
   "cell_type": "markdown",
   "id": "d2a4be59",
   "metadata": {},
   "source": [
    "# Arithmetic operations"
   ]
  },
  {
   "cell_type": "code",
   "execution_count": 46,
   "id": "c8bd85f8",
   "metadata": {},
   "outputs": [],
   "source": [
    "x=20\n",
    "y=10"
   ]
  },
  {
   "cell_type": "code",
   "execution_count": 47,
   "id": "a2f0edbf",
   "metadata": {},
   "outputs": [
    {
     "name": "stdout",
     "output_type": "stream",
     "text": [
      "30\n"
     ]
    }
   ],
   "source": [
    "result= x+y\n",
    "print(result)"
   ]
  },
  {
   "cell_type": "code",
   "execution_count": 48,
   "id": "daf940e1",
   "metadata": {},
   "outputs": [
    {
     "name": "stdout",
     "output_type": "stream",
     "text": [
      "200\n"
     ]
    }
   ],
   "source": [
    "result= x*y\n",
    "print(result)"
   ]
  },
  {
   "cell_type": "code",
   "execution_count": 49,
   "id": "8fdeffdd",
   "metadata": {},
   "outputs": [
    {
     "name": "stdout",
     "output_type": "stream",
     "text": [
      "2.0\n"
     ]
    }
   ],
   "source": [
    "result= x/y\n",
    "print(result)"
   ]
  },
  {
   "cell_type": "code",
   "execution_count": 50,
   "id": "ccd418af",
   "metadata": {
    "scrolled": true
   },
   "outputs": [
    {
     "name": "stdout",
     "output_type": "stream",
     "text": [
      "2\n"
     ]
    }
   ],
   "source": [
    "result= x//y\n",
    "print(result)"
   ]
  },
  {
   "cell_type": "code",
   "execution_count": 51,
   "id": "55cf1f94",
   "metadata": {},
   "outputs": [
    {
     "name": "stdout",
     "output_type": "stream",
     "text": [
      "0.6666666666666666\n"
     ]
    }
   ],
   "source": [
    "result= 2/3\n",
    "print(result)"
   ]
  },
  {
   "cell_type": "code",
   "execution_count": 52,
   "id": "f0928f8a",
   "metadata": {},
   "outputs": [
    {
     "name": "stdout",
     "output_type": "stream",
     "text": [
      "0\n"
     ]
    }
   ],
   "source": [
    "result= 2//3\n",
    "print(result)"
   ]
  },
  {
   "cell_type": "code",
   "execution_count": 53,
   "id": "b60462b0",
   "metadata": {},
   "outputs": [
    {
     "name": "stdout",
     "output_type": "stream",
     "text": [
      "0\n"
     ]
    }
   ],
   "source": [
    "result = x%y\n",
    "print(result)"
   ]
  },
  {
   "cell_type": "code",
   "execution_count": 54,
   "id": "cfb56018",
   "metadata": {},
   "outputs": [
    {
     "name": "stdout",
     "output_type": "stream",
     "text": [
      "1\n"
     ]
    }
   ],
   "source": [
    "print(3%2)"
   ]
  },
  {
   "cell_type": "code",
   "execution_count": 55,
   "id": "9ea063fe",
   "metadata": {},
   "outputs": [],
   "source": [
    "x= 3.14\n",
    "y= 5.7"
   ]
  },
  {
   "cell_type": "code",
   "execution_count": 56,
   "id": "9794c4ab",
   "metadata": {},
   "outputs": [
    {
     "name": "stdout",
     "output_type": "stream",
     "text": [
      "0.5508771929824562\n"
     ]
    }
   ],
   "source": [
    "result= x/y\n",
    "print(result)"
   ]
  },
  {
   "cell_type": "markdown",
   "id": "6ad2d798",
   "metadata": {},
   "source": [
    "# String Operations"
   ]
  },
  {
   "cell_type": "code",
   "execution_count": 57,
   "id": "de9c3867",
   "metadata": {},
   "outputs": [],
   "source": [
    "var = \"Simplilearn\""
   ]
  },
  {
   "cell_type": "code",
   "execution_count": 58,
   "id": "10d0ce47",
   "metadata": {},
   "outputs": [
    {
     "name": "stdout",
     "output_type": "stream",
     "text": [
      "S\n"
     ]
    }
   ],
   "source": [
    "print(var[0])"
   ]
  },
  {
   "cell_type": "code",
   "execution_count": 59,
   "id": "d599b004",
   "metadata": {},
   "outputs": [
    {
     "name": "stdout",
     "output_type": "stream",
     "text": [
      "l\n"
     ]
    }
   ],
   "source": [
    "print(var[4])"
   ]
  },
  {
   "cell_type": "code",
   "execution_count": 60,
   "id": "3b381745",
   "metadata": {
    "scrolled": true
   },
   "outputs": [
    {
     "name": "stdout",
     "output_type": "stream",
     "text": [
      "Sim\n"
     ]
    }
   ],
   "source": [
    "print(var[0:3])"
   ]
  },
  {
   "cell_type": "code",
   "execution_count": 61,
   "id": "1d53a811",
   "metadata": {},
   "outputs": [
    {
     "name": "stdout",
     "output_type": "stream",
     "text": [
      "Sim\n"
     ]
    }
   ],
   "source": [
    "print(var[:3])"
   ]
  },
  {
   "cell_type": "code",
   "execution_count": 62,
   "id": "56357b88",
   "metadata": {},
   "outputs": [
    {
     "name": "stdout",
     "output_type": "stream",
     "text": [
      "ilearn\n"
     ]
    }
   ],
   "source": [
    "print(var[5:])"
   ]
  },
  {
   "cell_type": "code",
   "execution_count": 63,
   "id": "263561fe",
   "metadata": {},
   "outputs": [
    {
     "name": "stdout",
     "output_type": "stream",
     "text": [
      "Simplilearn\n"
     ]
    }
   ],
   "source": [
    "print(var[0:20])"
   ]
  },
  {
   "cell_type": "code",
   "execution_count": 64,
   "id": "f0750e32",
   "metadata": {},
   "outputs": [
    {
     "data": {
      "text/plain": [
       "11"
      ]
     },
     "execution_count": 64,
     "metadata": {},
     "output_type": "execute_result"
    }
   ],
   "source": [
    "len(var)"
   ]
  }
 ],
 "metadata": {
  "kernelspec": {
   "display_name": "Python 3 (ipykernel)",
   "language": "python",
   "name": "python3"
  },
  "language_info": {
   "codemirror_mode": {
    "name": "ipython",
    "version": 3
   },
   "file_extension": ".py",
   "mimetype": "text/x-python",
   "name": "python",
   "nbconvert_exporter": "python",
   "pygments_lexer": "ipython3",
   "version": "3.9.7"
  }
 },
 "nbformat": 4,
 "nbformat_minor": 5
}
