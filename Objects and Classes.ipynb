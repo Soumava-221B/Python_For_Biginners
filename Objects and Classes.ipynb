{
 "cells": [
  {
   "cell_type": "code",
   "execution_count": 2,
   "id": "fa78eede",
   "metadata": {},
   "outputs": [
    {
     "name": "stdout",
     "output_type": "stream",
     "text": [
      "Hi I'm Sam\n",
      "I am eligiblle to vote\n"
     ]
    }
   ],
   "source": [
    "class Person:\n",
    "    \n",
    "    def __init__(self):\n",
    "        self.name=\"Sam\"\n",
    "        self.gender=\"Male\"\n",
    "        self.age=22\n",
    "        \n",
    "    def talk(self):\n",
    "        print(\"Hi I'm\", self.name)\n",
    "        \n",
    "    def vote(self):\n",
    "        if self.age<18:\n",
    "            print(\"I am not eligile to vote\")\n",
    "        else:\n",
    "            print(\"I am eligiblle to vote\")\n",
    "            \n",
    "obj = Person()\n",
    "Person.talk(obj)\n",
    "Person.vote(obj)"
   ]
  },
  {
   "cell_type": "code",
   "execution_count": null,
   "id": "4dfb3083",
   "metadata": {},
   "outputs": [],
   "source": [
    "obj.talk()\n",
    "obj.vote()"
   ]
  },
  {
   "cell_type": "code",
   "execution_count": 3,
   "id": "c7641a52",
   "metadata": {},
   "outputs": [
    {
     "name": "stdout",
     "output_type": "stream",
     "text": [
      "Hi I'm Sam\n",
      "I am eligiblle to vote\n",
      "Hi I'm Jesse\n",
      "I am not eligile to vote\n"
     ]
    }
   ],
   "source": [
    "class Person:\n",
    "    \n",
    "    def __init__(self,n,g,a):\n",
    "        self.name=n\n",
    "        self.gender=g\n",
    "        self.age=a\n",
    "        \n",
    "    def talk(self):\n",
    "        print(\"Hi I'm\", self.name)\n",
    "        \n",
    "    def vote(self):\n",
    "        if self.age<18:\n",
    "            print(\"I am not eligile to vote\")\n",
    "        else:\n",
    "            print(\"I am eligiblle to vote\")\n",
    "\n",
    "obj1= Person(\"Sam\",\"Male\",22)\n",
    "obj2= Person(\"Jesse\",\"Female\",16)\n",
    "obj1.talk()\n",
    "obj1.vote()\n",
    "\n",
    "obj2.talk()\n",
    "obj2.vote()"
   ]
  }
 ],
 "metadata": {
  "kernelspec": {
   "display_name": "Python 3 (ipykernel)",
   "language": "python",
   "name": "python3"
  },
  "language_info": {
   "codemirror_mode": {
    "name": "ipython",
    "version": 3
   },
   "file_extension": ".py",
   "mimetype": "text/x-python",
   "name": "python",
   "nbconvert_exporter": "python",
   "pygments_lexer": "ipython3",
   "version": "3.9.7"
  }
 },
 "nbformat": 4,
 "nbformat_minor": 5
}
