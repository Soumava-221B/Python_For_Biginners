{
 "cells": [
  {
   "cell_type": "code",
   "execution_count": 2,
   "id": "91ba4ae1",
   "metadata": {},
   "outputs": [
    {
     "name": "stdout",
     "output_type": "stream",
     "text": [
      "Hi I'm Sam\n",
      "I am eligiblle to vote\n"
     ]
    }
   ],
   "source": [
    "class Person:\n",
    "    \n",
    "    def __init__(self):\n",
    "        self.name=\"Sam\"\n",
    "        self.gender=\"Male\"\n",
    "        self.age=22\n",
    "        \n",
    "    def talk(self):\n",
    "        print(\"Hi I'm\", self.name)\n",
    "        \n",
    "    def vote(self):\n",
    "        if self.age<18:\n",
    "            print(\"I am not eligile to vote\")\n",
    "        else:\n",
    "            print(\"I am eligiblle to vote\")\n",
    "            \n",
    "obj = Person()\n",
    "Person.talk(obj)\n",
    "Person.vote(obj)"
   ]
  },
  {
   "cell_type": "code",
   "execution_count": null,
   "id": "73c86922",
   "metadata": {},
   "outputs": [],
   "source": [
    "obj.talk()\n",
    "obj.vote()"
   ]
  },
  {
   "cell_type": "code",
   "execution_count": 3,
   "id": "ff9dccdd",
   "metadata": {},
   "outputs": [
    {
     "name": "stdout",
     "output_type": "stream",
     "text": [
      "Hi I'm Sam\n",
      "I am eligiblle to vote\n",
      "Hi I'm Jesse\n",
      "I am not eligile to vote\n"
     ]
    }
   ],
   "source": [
    "class Person:\n",
    "    \n",
    "    def __init__(self,n,g,a):\n",
    "        self.name=n\n",
    "        self.gender=g\n",
    "        self.age=a\n",
    "        \n",
    "    def talk(self):\n",
    "        print(\"Hi I'm\", self.name)\n",
    "        \n",
    "    def vote(self):\n",
    "        if self.age<18:\n",
    "            print(\"I am not eligile to vote\")\n",
    "        else:\n",
    "            print(\"I am eligiblle to vote\")\n",
    "\n",
    "obj1= Person(\"Sam\",\"Male\",22)\n",
    "obj2= Person(\"Jesse\",\"Female\",16)\n",
    "obj1.talk()\n",
    "obj1.vote()\n",
    "\n",
    "obj2.talk()\n",
    "obj2.vote()"
   ]
  },
  {
   "cell_type": "markdown",
   "id": "ce1abc4e",
   "metadata": {},
   "source": [
    "# OOPs\n",
    "1. Every instance in python is an object\n",
    "2. An object has two differnet things:-\n",
    "     1. Atributes: Data describing the objects\n",
    "     2. Behaviour: Methods on the attributes\n",
    "3. Class is a collection of simillar objects"
   ]
  },
  {
   "cell_type": "code",
   "execution_count": 9,
   "id": "43e107c5",
   "metadata": {},
   "outputs": [
    {
     "name": "stdout",
     "output_type": "stream",
     "text": [
      "maximum speed is:  155\n",
      "maximum speed is:  143\n",
      "maximum speed is:  140\n"
     ]
    }
   ],
   "source": [
    "class car:\n",
    "    \n",
    "    def __init__(self, year, speed):\n",
    "        self.year = year\n",
    "        self.speed = speed\n",
    "    def getSpeed(self):\n",
    "        print(\"maximum speed is: \", self.speed)\n",
    "        \n",
    "    def setSpeed(self, speed):\n",
    "        self.speed = speed\n",
    "        \n",
    "BMW = car(2018, 155)\n",
    "FORD = car(2016, 140)\n",
    "# car.getSpeed(BMW)\n",
    "# car.getSpeed(FORD)\n",
    "\n",
    "# BMW.getSpeed()\n",
    "# FORD.getSpeed()\n",
    "\n",
    "BMW.getSpeed()\n",
    "BMW.setSpeed(143)\n",
    "BMW.getSpeed()\n",
    "FORD.getSpeed()"
   ]
  },
  {
   "cell_type": "code",
   "execution_count": null,
   "id": "4a7f96de",
   "metadata": {},
   "outputs": [],
   "source": []
  }
 ],
 "metadata": {
  "kernelspec": {
   "display_name": "Python 3 (ipykernel)",
   "language": "python",
   "name": "python3"
  },
  "language_info": {
   "codemirror_mode": {
    "name": "ipython",
    "version": 3
   },
   "file_extension": ".py",
   "mimetype": "text/x-python",
   "name": "python",
   "nbconvert_exporter": "python",
   "pygments_lexer": "ipython3",
   "version": "3.9.7"
  }
 },
 "nbformat": 4,
 "nbformat_minor": 5
}
