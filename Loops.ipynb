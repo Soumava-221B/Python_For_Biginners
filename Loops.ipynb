{
 "cells": [
  {
   "cell_type": "markdown",
   "id": "68e5ba79",
   "metadata": {},
   "source": [
    "# While Loop\n",
    "## Program to enter multiple"
   ]
  },
  {
   "cell_type": "code",
   "execution_count": 4,
   "id": "47479054",
   "metadata": {},
   "outputs": [
    {
     "name": "stdout",
     "output_type": "stream",
     "text": [
      "Enter a multiple of 7 3\n",
      "Enter a multiple of 7 6\n",
      "Enter a multiple of 7 14\n",
      "14 is a multiple of 7\n"
     ]
    }
   ],
   "source": [
    "val= int(input(\"Enter a multiple of 7 \"))\n",
    "while val%7 !=0:\n",
    "    val= int(input(\"Enter a multiple of 7 \"))\n",
    "else:\n",
    "    print(\"%d is a multiple of 7\" %val)"
   ]
  },
  {
   "cell_type": "markdown",
   "id": "b7a80e83",
   "metadata": {},
   "source": [
    "# For Loop\n",
    "For loop is used to iterate over a sequence, which could be a list, tupple, array or string"
   ]
  },
  {
   "cell_type": "code",
   "execution_count": 5,
   "id": "417f6054",
   "metadata": {},
   "outputs": [
    {
     "name": "stdout",
     "output_type": "stream",
     "text": [
      "1\n",
      "6\n",
      "Simplilearn\n"
     ]
    }
   ],
   "source": [
    "x = [1,6,\"Simplilearn\"]\n",
    "for i in x:\n",
    "    print(i)"
   ]
  },
  {
   "cell_type": "code",
   "execution_count": 6,
   "id": "59519e47",
   "metadata": {},
   "outputs": [
    {
     "name": "stdout",
     "output_type": "stream",
     "text": [
      "S\n",
      "i\n",
      "m\n",
      "p\n",
      "l\n",
      "i\n",
      "l\n",
      "e\n",
      "a\n",
      "r\n",
      "n\n"
     ]
    }
   ],
   "source": [
    "x = \"Simplilearn\"\n",
    "for i in x:\n",
    "    print(i)"
   ]
  },
  {
   "cell_type": "markdown",
   "id": "5126f9eb",
   "metadata": {},
   "source": [
    "# Nested loop\n",
    "Accessing the elements in a matrix"
   ]
  },
  {
   "cell_type": "code",
   "execution_count": 8,
   "id": "1621c39a",
   "metadata": {},
   "outputs": [
    {
     "name": "stdout",
     "output_type": "stream",
     "text": [
      "123\n",
      "abc\n"
     ]
    }
   ],
   "source": [
    "x = [[1,2,3],['a','b','c']]\n",
    "for i in x:\n",
    "    for j in i:\n",
    "        print(j, end=\"\")\n",
    "    print()"
   ]
  },
  {
   "cell_type": "markdown",
   "id": "06cd9349",
   "metadata": {},
   "source": [
    "# Loop control statements\n",
    "Loop control statemnts alter the regular flow of loop\n",
    "<br>\n",
    "eg: Break: Transfers control to the statement right after the loop"
   ]
  },
  {
   "cell_type": "code",
   "execution_count": 10,
   "id": "10eb23e4",
   "metadata": {},
   "outputs": [
    {
     "name": "stdout",
     "output_type": "stream",
     "text": [
      "Hey there"
     ]
    }
   ],
   "source": [
    "x = \"Hey there. how are you?\"\n",
    "for i in x:\n",
    "    if i == \".\":\n",
    "        break\n",
    "    print(i, end=\"\")"
   ]
  },
  {
   "cell_type": "markdown",
   "id": "abc63342",
   "metadata": {},
   "source": [
    "Continue: Skips the statement's following it and returns control to the beginning of the loops"
   ]
  },
  {
   "cell_type": "code",
   "execution_count": 11,
   "id": "aeb2e9dc",
   "metadata": {},
   "outputs": [
    {
     "name": "stdout",
     "output_type": "stream",
     "text": [
      "1\n",
      "4\n",
      "6\n"
     ]
    }
   ],
   "source": [
    "for i in [1,13,56,4,6]:\n",
    "    if i>10:\n",
    "        continue\n",
    "    print(i)"
   ]
  },
  {
   "cell_type": "code",
   "execution_count": null,
   "id": "5d61fa6e",
   "metadata": {},
   "outputs": [],
   "source": []
  }
 ],
 "metadata": {
  "kernelspec": {
   "display_name": "Python 3 (ipykernel)",
   "language": "python",
   "name": "python3"
  },
  "language_info": {
   "codemirror_mode": {
    "name": "ipython",
    "version": 3
   },
   "file_extension": ".py",
   "mimetype": "text/x-python",
   "name": "python",
   "nbconvert_exporter": "python",
   "pygments_lexer": "ipython3",
   "version": "3.9.7"
  }
 },
 "nbformat": 4,
 "nbformat_minor": 5
}
